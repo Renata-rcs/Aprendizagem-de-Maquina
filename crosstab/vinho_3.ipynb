{
  "cells": [
    {
      "cell_type": "code",
      "execution_count": null,
      "id": "6ce95228",
      "metadata": {
        "colab": {
          "base_uri": "https://localhost:8080/"
        },
        "id": "6ce95228",
        "outputId": "807035cc-c2f1-4e48-d1e9-28a83a16f48f"
      },
      "outputs": [
        {
          "output_type": "stream",
          "name": "stdout",
          "text": [
            "Requirement already satisfied: pandas in /usr/local/lib/python3.11/dist-packages (2.2.2)\n",
            "Requirement already satisfied: numpy>=1.23.2 in /usr/local/lib/python3.11/dist-packages (from pandas) (2.0.2)\n",
            "Requirement already satisfied: python-dateutil>=2.8.2 in /usr/local/lib/python3.11/dist-packages (from pandas) (2.9.0.post0)\n",
            "Requirement already satisfied: pytz>=2020.1 in /usr/local/lib/python3.11/dist-packages (from pandas) (2025.2)\n",
            "Requirement already satisfied: tzdata>=2022.7 in /usr/local/lib/python3.11/dist-packages (from pandas) (2025.2)\n",
            "Requirement already satisfied: six>=1.5 in /usr/local/lib/python3.11/dist-packages (from python-dateutil>=2.8.2->pandas) (1.17.0)\n"
          ]
        }
      ],
      "source": [
        "%pip install pandas"
      ]
    },
    {
      "cell_type": "code",
      "execution_count": null,
      "id": "3cc92956",
      "metadata": {
        "colab": {
          "base_uri": "https://localhost:8080/"
        },
        "id": "3cc92956",
        "outputId": "60340f28-a10d-4ea4-b59d-0d91c1fc3dd7"
      },
      "outputs": [
        {
          "output_type": "stream",
          "name": "stdout",
          "text": [
            "Requirement already satisfied: numpy in /usr/local/lib/python3.11/dist-packages (2.0.2)\n"
          ]
        }
      ],
      "source": [
        "%pip install numpy"
      ]
    },
    {
      "cell_type": "code",
      "execution_count": null,
      "id": "9f22c06d",
      "metadata": {
        "id": "9f22c06d",
        "outputId": "0f086195-6f49-4774-b648-78c5d613527c"
      },
      "outputs": [
        {
          "name": "stdout",
          "output_type": "stream",
          "text": [
            "Requirement already satisfied: matplotlib in c:\\users\\renata\\appdata\\local\\programs\\python\\python312\\lib\\site-packages (3.10.1)\n",
            "Requirement already satisfied: contourpy>=1.0.1 in c:\\users\\renata\\appdata\\local\\programs\\python\\python312\\lib\\site-packages (from matplotlib) (1.3.1)\n",
            "Requirement already satisfied: cycler>=0.10 in c:\\users\\renata\\appdata\\local\\programs\\python\\python312\\lib\\site-packages (from matplotlib) (0.12.1)\n",
            "Requirement already satisfied: fonttools>=4.22.0 in c:\\users\\renata\\appdata\\local\\programs\\python\\python312\\lib\\site-packages (from matplotlib) (4.56.0)\n",
            "Requirement already satisfied: kiwisolver>=1.3.1 in c:\\users\\renata\\appdata\\local\\programs\\python\\python312\\lib\\site-packages (from matplotlib) (1.4.8)\n",
            "Requirement already satisfied: numpy>=1.23 in c:\\users\\renata\\appdata\\local\\programs\\python\\python312\\lib\\site-packages (from matplotlib) (2.2.3)\n",
            "Requirement already satisfied: packaging>=20.0 in c:\\users\\renata\\appdata\\roaming\\python\\python312\\site-packages (from matplotlib) (24.2)\n",
            "Requirement already satisfied: pillow>=8 in c:\\users\\renata\\appdata\\local\\programs\\python\\python312\\lib\\site-packages (from matplotlib) (11.1.0)\n",
            "Requirement already satisfied: pyparsing>=2.3.1 in c:\\users\\renata\\appdata\\local\\programs\\python\\python312\\lib\\site-packages (from matplotlib) (3.2.1)\n",
            "Requirement already satisfied: python-dateutil>=2.7 in c:\\users\\renata\\appdata\\roaming\\python\\python312\\site-packages (from matplotlib) (2.9.0.post0)\n",
            "Requirement already satisfied: six>=1.5 in c:\\users\\renata\\appdata\\roaming\\python\\python312\\site-packages (from python-dateutil>=2.7->matplotlib) (1.17.0)\n",
            "Note: you may need to restart the kernel to use updated packages.\n"
          ]
        },
        {
          "name": "stderr",
          "output_type": "stream",
          "text": [
            "\n",
            "[notice] A new release of pip is available: 25.0.1 -> 25.1.1\n",
            "[notice] To update, run: python.exe -m pip install --upgrade pip\n"
          ]
        }
      ],
      "source": [
        "%pip install matplotlib"
      ]
    },
    {
      "cell_type": "code",
      "execution_count": null,
      "id": "4841734c",
      "metadata": {
        "id": "4841734c",
        "outputId": "a71e8a0a-55e3-4ed4-fd22-a07ebdd757c3"
      },
      "outputs": [
        {
          "name": "stdout",
          "output_type": "stream",
          "text": [
            "Requirement already satisfied: seaborn in c:\\users\\renata\\appdata\\local\\programs\\python\\python312\\lib\\site-packages (0.13.2)\n",
            "Requirement already satisfied: numpy!=1.24.0,>=1.20 in c:\\users\\renata\\appdata\\local\\programs\\python\\python312\\lib\\site-packages (from seaborn) (2.2.3)\n",
            "Requirement already satisfied: pandas>=1.2 in c:\\users\\renata\\appdata\\local\\programs\\python\\python312\\lib\\site-packages (from seaborn) (2.2.3)\n",
            "Requirement already satisfied: matplotlib!=3.6.1,>=3.4 in c:\\users\\renata\\appdata\\local\\programs\\python\\python312\\lib\\site-packages (from seaborn) (3.10.1)\n",
            "Requirement already satisfied: contourpy>=1.0.1 in c:\\users\\renata\\appdata\\local\\programs\\python\\python312\\lib\\site-packages (from matplotlib!=3.6.1,>=3.4->seaborn) (1.3.1)\n",
            "Requirement already satisfied: cycler>=0.10 in c:\\users\\renata\\appdata\\local\\programs\\python\\python312\\lib\\site-packages (from matplotlib!=3.6.1,>=3.4->seaborn) (0.12.1)\n",
            "Requirement already satisfied: fonttools>=4.22.0 in c:\\users\\renata\\appdata\\local\\programs\\python\\python312\\lib\\site-packages (from matplotlib!=3.6.1,>=3.4->seaborn) (4.56.0)\n",
            "Requirement already satisfied: kiwisolver>=1.3.1 in c:\\users\\renata\\appdata\\local\\programs\\python\\python312\\lib\\site-packages (from matplotlib!=3.6.1,>=3.4->seaborn) (1.4.8)\n",
            "Requirement already satisfied: packaging>=20.0 in c:\\users\\renata\\appdata\\roaming\\python\\python312\\site-packages (from matplotlib!=3.6.1,>=3.4->seaborn) (24.2)\n",
            "Requirement already satisfied: pillow>=8 in c:\\users\\renata\\appdata\\local\\programs\\python\\python312\\lib\\site-packages (from matplotlib!=3.6.1,>=3.4->seaborn) (11.1.0)\n",
            "Requirement already satisfied: pyparsing>=2.3.1 in c:\\users\\renata\\appdata\\local\\programs\\python\\python312\\lib\\site-packages (from matplotlib!=3.6.1,>=3.4->seaborn) (3.2.1)\n",
            "Requirement already satisfied: python-dateutil>=2.7 in c:\\users\\renata\\appdata\\roaming\\python\\python312\\site-packages (from matplotlib!=3.6.1,>=3.4->seaborn) (2.9.0.post0)\n",
            "Requirement already satisfied: pytz>=2020.1 in c:\\users\\renata\\appdata\\local\\programs\\python\\python312\\lib\\site-packages (from pandas>=1.2->seaborn) (2025.1)\n",
            "Requirement already satisfied: tzdata>=2022.7 in c:\\users\\renata\\appdata\\local\\programs\\python\\python312\\lib\\site-packages (from pandas>=1.2->seaborn) (2025.1)\n",
            "Requirement already satisfied: six>=1.5 in c:\\users\\renata\\appdata\\roaming\\python\\python312\\site-packages (from python-dateutil>=2.7->matplotlib!=3.6.1,>=3.4->seaborn) (1.17.0)\n",
            "Note: you may need to restart the kernel to use updated packages.\n"
          ]
        },
        {
          "name": "stderr",
          "output_type": "stream",
          "text": [
            "\n",
            "[notice] A new release of pip is available: 25.0.1 -> 25.1.1\n",
            "[notice] To update, run: python.exe -m pip install --upgrade pip\n"
          ]
        }
      ],
      "source": [
        "%pip install seaborn"
      ]
    },
    {
      "cell_type": "markdown",
      "source": [
        "## 📚 Importação de Bibliotecas\n",
        "Descrição: pandas: Biblioteca usada para manipulação e análise de dados em estruturas como DataFrames.\n",
        "\n",
        "train_test_split: Função do sklearn.model_selection que divide o dataset em conjuntos de treino e teste.\n",
        "\n",
        "LinearRegression: Classe do sklearn.linear_model utilizada para criar o modelo de regressão linear.\n",
        "\n",
        "mean_squared_error: Função que calcula o erro quadrático médio entre os valores reais e previstos, usada para avaliar o desempenho do modelo de regressão."
      ],
      "metadata": {
        "id": "o-loxm2BdBUW"
      },
      "id": "o-loxm2BdBUW"
    },
    {
      "cell_type": "code",
      "execution_count": null,
      "id": "c66c1bc7",
      "metadata": {
        "id": "c66c1bc7"
      },
      "outputs": [],
      "source": [
        "import pandas as pd\n",
        "from sklearn.preprocessing import StandardScaler\n",
        "from sklearn.cluster import KMeans\n",
        "from sklearn.metrics import accuracy_score, confusion_matrix\n",
        "from sklearn.metrics import classification_report\n",
        "import numpy as np\n",
        "\n",
        "\n"
      ]
    },
    {
      "cell_type": "code",
      "execution_count": null,
      "id": "359ba3db",
      "metadata": {
        "id": "359ba3db",
        "outputId": "e678a5b1-7205-49a0-9171-786ada508864"
      },
      "outputs": [
        {
          "name": "stdout",
          "output_type": "stream",
          "text": [
            "   class_label class_name  alcohol  malic_acid   ash  alcalinity_of_ash  \\\n",
            "0            1     Barolo      NaN        1.71  2.43               15.6   \n",
            "1            1     Barolo    13.20        1.78  2.14               11.2   \n",
            "2            1     Barolo    13.16        2.36  2.67               18.6   \n",
            "3            1     Barolo    14.37        1.95  2.50               16.8   \n",
            "4            1     Barolo    13.24        2.59  2.87               21.0   \n",
            "5            1     Barolo    14.20        1.76  2.45               15.2   \n",
            "6            1     Barolo    14.39        1.87  2.45               14.6   \n",
            "7            1     Barolo    14.06        2.15  2.61               17.6   \n",
            "8            1     Barolo    14.83        1.64  2.17               14.0   \n",
            "9            1     Barolo    13.86        1.35  2.27               16.0   \n",
            "\n",
            "   magnesium  total_phenols  flavanoids  nonflavanoid_phenols  \\\n",
            "0        127           2.80        3.06                  0.28   \n",
            "1        100           2.65        2.76                  0.26   \n",
            "2        101           2.80        3.24                  0.30   \n",
            "3        113           3.85        3.49                  0.24   \n",
            "4        118           2.80        2.69                  0.39   \n",
            "5        112           3.27        3.39                  0.34   \n",
            "6         96           2.50        2.52                  0.30   \n",
            "7        121           2.60        2.51                  0.31   \n",
            "8         97           2.80        2.98                  0.29   \n",
            "9         98           2.98        3.15                  0.22   \n",
            "\n",
            "   proanthocyanins  color_intensity   hue  od280  proline  \n",
            "0             2.29             5.64  1.04   3.92     1065  \n",
            "1             1.28             4.38  1.05   3.40     1050  \n",
            "2             2.81             5.68  1.03   3.17     1185  \n",
            "3             2.18             7.80  0.86   3.45     1480  \n",
            "4             1.82             4.32  1.04   2.93      735  \n",
            "5             1.97             6.75  1.05   2.85     1450  \n",
            "6             1.98             5.25  1.02   3.58     1290  \n",
            "7             1.25             5.05  1.06   3.58     1295  \n",
            "8             1.98             5.20  1.08   2.85     1045  \n",
            "9             1.85             7.22  1.01   3.55     1045  \n"
          ]
        }
      ],
      "source": [
        "# Carregar os dados\n",
        "wine_df = pd.read_csv(\"wine.csv\")\n",
        "print(wine_df.head(10))"
      ]
    },
    {
      "cell_type": "markdown",
      "source": [
        "## 🔍 Verificação de Valores Ausentes\n",
        "✅ Descrição: isnull(): Verifica se há valores nulos (ausentes) no DataFrame.\n",
        "\n",
        "sum(): Soma a quantidade de valores nulos por coluna.\n",
        "\n",
        "O comando exibe quantos valores estão ausentes em cada coluna do DataFrame wine_df.\n",
        "\n",
        "Essa etapa é essencial para garantir a qualidade dos dados antes de aplicar algoritmos de machine learning."
      ],
      "metadata": {
        "id": "a_iVncqRdLX0"
      },
      "id": "a_iVncqRdLX0"
    },
    {
      "cell_type": "code",
      "execution_count": null,
      "id": "933f1109",
      "metadata": {
        "id": "933f1109",
        "outputId": "e28df7ed-d648-467e-e220-71ead5a00e15"
      },
      "outputs": [
        {
          "name": "stdout",
          "output_type": "stream",
          "text": [
            "Valores ausentes antes do tratamento:\n",
            "class_label             0\n",
            "class_name              0\n",
            "alcohol                 6\n",
            "malic_acid              0\n",
            "ash                     0\n",
            "alcalinity_of_ash       0\n",
            "magnesium               0\n",
            "total_phenols           0\n",
            "flavanoids              0\n",
            "nonflavanoid_phenols    0\n",
            "proanthocyanins         0\n",
            "color_intensity         0\n",
            "hue                     0\n",
            "od280                   0\n",
            "proline                 0\n",
            "dtype: int64\n"
          ]
        }
      ],
      "source": [
        "# Veirificar se tem dados ausentes\n",
        "print(\"Valores ausentes antes do tratamento:\")\n",
        "print(wine_df.isnull().sum())"
      ]
    },
    {
      "cell_type": "markdown",
      "source": [
        "✅ Descrição: select_dtypes(): Filtra as colunas do DataFrame com base no tipo de dado.\n",
        "\n",
        "Neste caso, seleciona apenas colunas do tipo float64 ou int64, ou seja, colunas numéricas.\n",
        "\n",
        "O resultado é uma lista com os nomes das colunas numéricas, armazenada na variável colunas_numericas.\n",
        "\n",
        "Essa seleção evita problemas ao tentar calcular médias em colunas categóricas (como rótulos de classe).\n",
        "\n",
        "Este bloco percorre todas as colunas numéricas do DataFrame.\n",
        "\n",
        "A condição if coluna != 'class_label' garante que a coluna de classe (class_label) não seja modificada.\n",
        "\n",
        "groupby('class_label'): Agrupa os dados pela classe antes de calcular a média.\n",
        "transform(lambda x: x.fillna(x.mean())): Para cada grupo (classe), calcula a média da coluna e preenche os valores ausentes com essa média.\n",
        "\n",
        "Esse método é mais robusto do que usar a média geral, pois considera características específicas de cada classe."
      ],
      "metadata": {
        "id": "TfQ0Nm7Kek6T"
      },
      "id": "TfQ0Nm7Kek6T"
    },
    {
      "cell_type": "code",
      "execution_count": null,
      "id": "df448804",
      "metadata": {
        "colab": {
          "base_uri": "https://localhost:8080/",
          "height": 211
        },
        "id": "df448804",
        "outputId": "0bf0f466-85f2-4407-c676-4d6e0711ceb6"
      },
      "outputs": [
        {
          "output_type": "error",
          "ename": "NameError",
          "evalue": "name 'wine_df' is not defined",
          "traceback": [
            "\u001b[0;31m---------------------------------------------------------------------------\u001b[0m",
            "\u001b[0;31mNameError\u001b[0m                                 Traceback (most recent call last)",
            "\u001b[0;32m<ipython-input-9-b38bdbc42a5f>\u001b[0m in \u001b[0;36m<cell line: 0>\u001b[0;34m()\u001b[0m\n\u001b[1;32m      1\u001b[0m \u001b[0;31m# Seleciona apenas as colunas numéricas (ignora textos como 'class_name')\u001b[0m\u001b[0;34m\u001b[0m\u001b[0;34m\u001b[0m\u001b[0m\n\u001b[0;32m----> 2\u001b[0;31m \u001b[0mcolunas_numericas\u001b[0m \u001b[0;34m=\u001b[0m \u001b[0mwine_df\u001b[0m\u001b[0;34m.\u001b[0m\u001b[0mselect_dtypes\u001b[0m\u001b[0;34m(\u001b[0m\u001b[0minclude\u001b[0m\u001b[0;34m=\u001b[0m\u001b[0;34m[\u001b[0m\u001b[0;34m'float64'\u001b[0m\u001b[0;34m,\u001b[0m \u001b[0;34m'int64'\u001b[0m\u001b[0;34m]\u001b[0m\u001b[0;34m)\u001b[0m\u001b[0;34m.\u001b[0m\u001b[0mcolumns\u001b[0m\u001b[0;34m\u001b[0m\u001b[0;34m\u001b[0m\u001b[0m\n\u001b[0m\u001b[1;32m      3\u001b[0m \u001b[0;34m\u001b[0m\u001b[0m\n\u001b[1;32m      4\u001b[0m \u001b[0;31m# Preenche valores ausentes com a média DENTRO de cada classe\u001b[0m\u001b[0;34m\u001b[0m\u001b[0;34m\u001b[0m\u001b[0m\n\u001b[1;32m      5\u001b[0m \u001b[0;32mfor\u001b[0m \u001b[0mcoluna\u001b[0m \u001b[0;32min\u001b[0m \u001b[0mcolunas_numericas\u001b[0m\u001b[0;34m:\u001b[0m\u001b[0;34m\u001b[0m\u001b[0;34m\u001b[0m\u001b[0m\n",
            "\u001b[0;31mNameError\u001b[0m: name 'wine_df' is not defined"
          ]
        }
      ],
      "source": [
        "\n",
        "# Seleciona apenas as colunas numéricas (ignora textos como 'class_name')\n",
        "colunas_numericas = wine_df.select_dtypes(include=['float64', 'int64']).columns\n",
        "\n",
        "# Preenche valores ausentes com a média DENTRO de cada classe\n",
        "for coluna in colunas_numericas:\n",
        "    if coluna != 'class_label':  # Não precisamos tratar a classe\n",
        "        wine_df[coluna] = wine_df.groupby('class_label')[coluna].transform(lambda x: x.fillna(x.mean()))"
      ]
    },
    {
      "cell_type": "markdown",
      "source": [
        "✅ Descrição: Após o preenchimento dos valores ausentes, este comando verifica novamente se ainda existem dados faltantes.\n",
        "\n",
        "Ajuda a garantir que todos os valores ausentes foram corretamente tratados.\n",
        "\n",
        "Ideal para validação final da etapa de limpeza de dados."
      ],
      "metadata": {
        "id": "QUP1Ug_Qd9sc"
      },
      "id": "QUP1Ug_Qd9sc"
    },
    {
      "cell_type": "code",
      "execution_count": null,
      "id": "13077c71",
      "metadata": {
        "id": "13077c71",
        "outputId": "551805b9-49ec-496e-94e6-120fa3cb3b88"
      },
      "outputs": [
        {
          "name": "stdout",
          "output_type": "stream",
          "text": [
            "Valores ausentes depois do tratamento:\n",
            "class_label             0\n",
            "alcohol                 0\n",
            "malic_acid              0\n",
            "ash                     0\n",
            "alcalinity_of_ash       0\n",
            "magnesium               0\n",
            "total_phenols           0\n",
            "flavanoids              0\n",
            "nonflavanoid_phenols    0\n",
            "proanthocyanins         0\n",
            "color_intensity         0\n",
            "hue                     0\n",
            "od280                   0\n",
            "proline                 0\n",
            "dtype: int64\n"
          ]
        }
      ],
      "source": [
        "# Verificar se à valores ausentes\n",
        "print(\"Valores ausentes depois do tratamento:\")\n",
        "print(wine_df.isnull().sum())"
      ]
    },
    {
      "cell_type": "code",
      "execution_count": null,
      "id": "afee07a4",
      "metadata": {
        "id": "afee07a4",
        "outputId": "3c0b10da-285b-4d75-d50f-49692407cf64"
      },
      "outputs": [
        {
          "name": "stdout",
          "output_type": "stream",
          "text": [
            "     class_label    alcohol  malic_acid   ash  alcalinity_of_ash  magnesium  \\\n",
            "0              1  13.740536        1.71  2.43               15.6        127   \n",
            "1              1  13.200000        1.78  2.14               11.2        100   \n",
            "2              1  13.160000        2.36  2.67               18.6        101   \n",
            "3              1  14.370000        1.95  2.50               16.8        113   \n",
            "4              1  13.240000        2.59  2.87               21.0        118   \n",
            "..           ...        ...         ...   ...                ...        ...   \n",
            "173            3  13.710000        5.65  2.45               20.5         95   \n",
            "174            3  13.400000        3.91  2.48               23.0        102   \n",
            "175            3  13.151277        4.28  2.26               20.0        120   \n",
            "176            3  13.170000        2.59  2.37               20.0        120   \n",
            "177            3  14.130000        4.10  2.74               24.5         96   \n",
            "\n",
            "     total_phenols  flavanoids  nonflavanoid_phenols  proanthocyanins  \\\n",
            "0             2.80        3.06                  0.28             2.29   \n",
            "1             2.65        2.76                  0.26             1.28   \n",
            "2             2.80        3.24                  0.30             2.81   \n",
            "3             3.85        3.49                  0.24             2.18   \n",
            "4             2.80        2.69                  0.39             1.82   \n",
            "..             ...         ...                   ...              ...   \n",
            "173           1.68        0.61                  0.52             1.06   \n",
            "174           1.80        0.75                  0.43             1.41   \n",
            "175           1.59        0.69                  0.43             1.35   \n",
            "176           1.65        0.68                  0.53             1.46   \n",
            "177           2.05        0.76                  0.56             1.35   \n",
            "\n",
            "     color_intensity   hue  od280  proline  \n",
            "0               5.64  1.04   3.92     1065  \n",
            "1               4.38  1.05   3.40     1050  \n",
            "2               5.68  1.03   3.17     1185  \n",
            "3               7.80  0.86   3.45     1480  \n",
            "4               4.32  1.04   2.93      735  \n",
            "..               ...   ...    ...      ...  \n",
            "173             7.70  0.64   1.74      740  \n",
            "174             7.30  0.70   1.56      750  \n",
            "175            10.20  0.59   1.56      835  \n",
            "176             9.30  0.60   1.62      840  \n",
            "177             9.20  0.61   1.60      560  \n",
            "\n",
            "[178 rows x 14 columns]\n"
          ]
        }
      ],
      "source": [
        "print(wine_df)"
      ]
    },
    {
      "cell_type": "markdown",
      "source": [],
      "metadata": {
        "id": "OdaxJeSEf2O5"
      },
      "id": "OdaxJeSEf2O5"
    },
    {
      "cell_type": "markdown",
      "source": [
        "## 🗑️ Remoção de Colunas Não Numéricas\n",
        "✅ Descrição: Este trecho verifica se a coluna 'class_name' (geralmente uma coluna categórica ou textual) existe no DataFrame.\n",
        "\n",
        "Caso exista, ela é removida usando o método drop(columns=[...]).\n",
        "\n",
        "A remoção de colunas categóricas como 'class_name' é importante em tarefas de clusterização não supervisionada , especialmente quando:\n",
        "O algoritmo usado (como K-Means) não trabalha com variáveis categóricas diretamente.\n",
        "\n",
        "Queremos basear a clusterização apenas em características numéricas."
      ],
      "metadata": {
        "id": "KYZhdJ8hfkrt"
      },
      "id": "KYZhdJ8hfkrt"
    },
    {
      "cell_type": "code",
      "execution_count": null,
      "id": "9f6cfa98",
      "metadata": {
        "id": "9f6cfa98"
      },
      "outputs": [],
      "source": [
        "# Remover colunas não numéricas (exemplo: 'class_name')\n",
        "if 'class_name' in wine_df.columns:\n",
        "    wine_df = wine_df.drop(columns=[\"class_name\"])"
      ]
    },
    {
      "cell_type": "markdown",
      "source": [
        "## 📊 Análise Exploratória do Dataset\n",
        "\n",
        "✅ Descrição: wine_df.info(): Mostra informações gerais do dataset, como número de linhas, colunas, tipos de dados e valores não nulos.\n",
        "wine_df.describe(): Exibe estatísticas básicas (média, desvio padrão, mín., máx., quartis) das colunas numéricas.\n"
      ],
      "metadata": {
        "id": "bjSzgT5PgoKb"
      },
      "id": "bjSzgT5PgoKb"
    },
    {
      "cell_type": "code",
      "execution_count": null,
      "id": "1925bdea",
      "metadata": {
        "id": "1925bdea",
        "outputId": "a456f510-8819-4660-8283-e74537289173"
      },
      "outputs": [
        {
          "name": "stdout",
          "output_type": "stream",
          "text": [
            "\n",
            "Info do dataset:\n",
            "<class 'pandas.core.frame.DataFrame'>\n",
            "RangeIndex: 178 entries, 0 to 177\n",
            "Data columns (total 14 columns):\n",
            " #   Column                Non-Null Count  Dtype  \n",
            "---  ------                --------------  -----  \n",
            " 0   class_label           178 non-null    int64  \n",
            " 1   alcohol               178 non-null    float64\n",
            " 2   malic_acid            178 non-null    float64\n",
            " 3   ash                   178 non-null    float64\n",
            " 4   alcalinity_of_ash     178 non-null    float64\n",
            " 5   magnesium             178 non-null    int64  \n",
            " 6   total_phenols         178 non-null    float64\n",
            " 7   flavanoids            178 non-null    float64\n",
            " 8   nonflavanoid_phenols  178 non-null    float64\n",
            " 9   proanthocyanins       178 non-null    float64\n",
            " 10  color_intensity       178 non-null    float64\n",
            " 11  hue                   178 non-null    float64\n",
            " 12  od280                 178 non-null    float64\n",
            " 13  proline               178 non-null    int64  \n",
            "dtypes: float64(11), int64(3)\n",
            "memory usage: 19.6 KB\n",
            "None\n",
            "\n",
            "Descrição estatística:\n",
            "       class_label     alcohol  malic_acid         ash  alcalinity_of_ash  \\\n",
            "count   178.000000  178.000000  178.000000  178.000000         178.000000   \n",
            "mean      1.938202   13.000795    2.336348    2.366517          19.494944   \n",
            "std       0.775035    0.804463    1.117146    0.274344           3.339564   \n",
            "min       1.000000   11.030000    0.740000    1.360000          10.600000   \n",
            "25%       1.000000   12.362500    1.602500    2.210000          17.200000   \n",
            "50%       2.000000   13.050000    1.865000    2.360000          19.500000   \n",
            "75%       3.000000   13.687500    3.082500    2.557500          21.500000   \n",
            "max       3.000000   14.830000    5.800000    3.230000          30.000000   \n",
            "\n",
            "        magnesium  total_phenols  flavanoids  nonflavanoid_phenols  \\\n",
            "count  178.000000     178.000000  178.000000            178.000000   \n",
            "mean    99.741573       2.295112    2.029270              0.361854   \n",
            "std     14.282484       0.625851    0.998859              0.124453   \n",
            "min     70.000000       0.980000    0.340000              0.130000   \n",
            "25%     88.000000       1.742500    1.205000              0.270000   \n",
            "50%     98.000000       2.355000    2.135000              0.340000   \n",
            "75%    107.000000       2.800000    2.875000              0.437500   \n",
            "max    162.000000       3.880000    5.080000              0.660000   \n",
            "\n",
            "       proanthocyanins  color_intensity         hue       od280      proline  \n",
            "count       178.000000       178.000000  178.000000  178.000000   178.000000  \n",
            "mean          1.590899         5.058090    0.957449    2.611685   746.893258  \n",
            "std           0.572359         2.318286    0.228572    0.709990   314.907474  \n",
            "min           0.410000         1.280000    0.480000    1.270000   278.000000  \n",
            "25%           1.250000         3.220000    0.782500    1.937500   500.500000  \n",
            "50%           1.555000         4.690000    0.965000    2.780000   673.500000  \n",
            "75%           1.950000         6.200000    1.120000    3.170000   985.000000  \n",
            "max           3.580000        13.000000    1.710000    4.000000  1680.000000  \n"
          ]
        }
      ],
      "source": [
        "# Análise exploratória (idem antes)\n",
        "print(\"\\nInfo do dataset:\")\n",
        "print(wine_df.info())\n",
        "print(\"\\nDescrição estatística:\")\n",
        "print(wine_df.describe())"
      ]
    },
    {
      "cell_type": "markdown",
      "source": [
        "## 🎯 Separação de Atributos e Rótulos\n",
        "\n",
        "✅ Descrição: X: Contém todas as colunas do dataset exceto o rótulo (class_label), ou seja, os atributos usados para agrupamento.\n",
        "\n",
        "y: É o rótulo verdadeiro (classe real de cada amostra), ajustado para começar em 0 ([0, 1, 2]) — útil para comparação com clusters.\n"
      ],
      "metadata": {
        "id": "FJzdOMSAiIyY"
      },
      "id": "FJzdOMSAiIyY"
    },
    {
      "cell_type": "code",
      "execution_count": 15,
      "id": "ba5ace32",
      "metadata": {
        "id": "ba5ace32",
        "colab": {
          "base_uri": "https://localhost:8080/",
          "height": 176
        },
        "outputId": "d6bf8496-d2f3-4028-fc4c-17d68921da56"
      },
      "outputs": [
        {
          "output_type": "error",
          "ename": "NameError",
          "evalue": "name 'wine_df' is not defined",
          "traceback": [
            "\u001b[0;31m---------------------------------------------------------------------------\u001b[0m",
            "\u001b[0;31mNameError\u001b[0m                                 Traceback (most recent call last)",
            "\u001b[0;32m<ipython-input-15-3da4b621ece4>\u001b[0m in \u001b[0;36m<cell line: 0>\u001b[0;34m()\u001b[0m\n\u001b[1;32m      1\u001b[0m \u001b[0;31m# Separar X (atributos) e y (rótulo verdadeiro)\u001b[0m\u001b[0;34m\u001b[0m\u001b[0;34m\u001b[0m\u001b[0m\n\u001b[0;32m----> 2\u001b[0;31m \u001b[0mX\u001b[0m \u001b[0;34m=\u001b[0m \u001b[0mwine_df\u001b[0m\u001b[0;34m.\u001b[0m\u001b[0mdrop\u001b[0m\u001b[0;34m(\u001b[0m\u001b[0mcolumns\u001b[0m\u001b[0;34m=\u001b[0m\u001b[0;34m[\u001b[0m\u001b[0;34m\"class_label\"\u001b[0m\u001b[0;34m]\u001b[0m\u001b[0;34m)\u001b[0m\u001b[0;34m\u001b[0m\u001b[0;34m\u001b[0m\u001b[0m\n\u001b[0m\u001b[1;32m      3\u001b[0m \u001b[0my\u001b[0m \u001b[0;34m=\u001b[0m \u001b[0mwine_df\u001b[0m\u001b[0;34m[\u001b[0m\u001b[0;34m\"class_label\"\u001b[0m\u001b[0;34m]\u001b[0m \u001b[0;34m-\u001b[0m \u001b[0;36m1\u001b[0m  \u001b[0;31m# Ajustar rótulos para [0, 1, 2]\u001b[0m\u001b[0;34m\u001b[0m\u001b[0;34m\u001b[0m\u001b[0m\n",
            "\u001b[0;31mNameError\u001b[0m: name 'wine_df' is not defined"
          ]
        }
      ],
      "source": [
        "# Separar X (atributos) e y (rótulo verdadeiro)\n",
        "X = wine_df.drop(columns=[\"class_label\"])\n",
        "y = wine_df[\"class_label\"] - 1  # Ajustar rótulos para [0, 1, 2]"
      ]
    },
    {
      "cell_type": "markdown",
      "source": [
        "## 🧪 Clusterização com KMeans e Comparação com Rótulos Verdadeiros\n",
        "\n",
        "✅ Descrição: StandardScaler Padroniza os dados (X) para média 0 e variância 1.\n",
        "\n",
        "Necessário para que todas as features contribuam igualmente no cálculo de distância do KMeans.\n"
      ],
      "metadata": {
        "id": "ca_AClOSiX7M"
      },
      "id": "ca_AClOSiX7M"
    },
    {
      "cell_type": "code",
      "execution_count": 14,
      "id": "68460c52",
      "metadata": {
        "id": "68460c52",
        "colab": {
          "base_uri": "https://localhost:8080/",
          "height": 159
        },
        "outputId": "8d8ae49f-5b6f-4620-def2-9ae6f1af54c5"
      },
      "outputs": [
        {
          "output_type": "error",
          "ename": "NameError",
          "evalue": "name 'StandardScaler' is not defined",
          "traceback": [
            "\u001b[0;31m---------------------------------------------------------------------------\u001b[0m",
            "\u001b[0;31mNameError\u001b[0m                                 Traceback (most recent call last)",
            "\u001b[0;32m<ipython-input-14-14d4e236ab68>\u001b[0m in \u001b[0;36m<cell line: 0>\u001b[0;34m()\u001b[0m\n\u001b[0;32m----> 1\u001b[0;31m \u001b[0mscaler\u001b[0m \u001b[0;34m=\u001b[0m \u001b[0mStandardScaler\u001b[0m\u001b[0;34m(\u001b[0m\u001b[0;34m)\u001b[0m\u001b[0;34m\u001b[0m\u001b[0;34m\u001b[0m\u001b[0m\n\u001b[0m\u001b[1;32m      2\u001b[0m \u001b[0mX_scaled\u001b[0m \u001b[0;34m=\u001b[0m \u001b[0mscaler\u001b[0m\u001b[0;34m.\u001b[0m\u001b[0mfit_transform\u001b[0m\u001b[0;34m(\u001b[0m\u001b[0mX\u001b[0m\u001b[0;34m)\u001b[0m\u001b[0;34m\u001b[0m\u001b[0;34m\u001b[0m\u001b[0m\n",
            "\u001b[0;31mNameError\u001b[0m: name 'StandardScaler' is not defined"
          ]
        }
      ],
      "source": [
        "scaler = StandardScaler()\n",
        "X_scaled = scaler.fit_transform(X)\n"
      ]
    },
    {
      "cell_type": "markdown",
      "source": [
        "✅ Descrição:\n",
        "Cria e ajusta o modelo KMeans com 3 clusters (número igual ao de classes no Wine).\n",
        "clusters: Rótulos dos clusters atribuídos a cada amost"
      ],
      "metadata": {
        "id": "wTosv2nYimRS"
      },
      "id": "wTosv2nYimRS"
    },
    {
      "cell_type": "code",
      "execution_count": 13,
      "id": "f64ff779",
      "metadata": {
        "id": "f64ff779",
        "colab": {
          "base_uri": "https://localhost:8080/",
          "height": 176
        },
        "outputId": "76aab7bb-9aea-4d3b-8765-3a0134a1b4ee"
      },
      "outputs": [
        {
          "output_type": "error",
          "ename": "NameError",
          "evalue": "name 'KMeans' is not defined",
          "traceback": [
            "\u001b[0;31m---------------------------------------------------------------------------\u001b[0m",
            "\u001b[0;31mNameError\u001b[0m                                 Traceback (most recent call last)",
            "\u001b[0;32m<ipython-input-13-1ac461ded2a7>\u001b[0m in \u001b[0;36m<cell line: 0>\u001b[0;34m()\u001b[0m\n\u001b[0;32m----> 1\u001b[0;31m \u001b[0mkmeans\u001b[0m \u001b[0;34m=\u001b[0m \u001b[0mKMeans\u001b[0m\u001b[0;34m(\u001b[0m\u001b[0mn_clusters\u001b[0m\u001b[0;34m=\u001b[0m\u001b[0;36m3\u001b[0m\u001b[0;34m,\u001b[0m \u001b[0mrandom_state\u001b[0m\u001b[0;34m=\u001b[0m\u001b[0;36m42\u001b[0m\u001b[0;34m)\u001b[0m\u001b[0;34m\u001b[0m\u001b[0;34m\u001b[0m\u001b[0m\n\u001b[0m\u001b[1;32m      2\u001b[0m \u001b[0mkmeans\u001b[0m\u001b[0;34m.\u001b[0m\u001b[0mfit\u001b[0m\u001b[0;34m(\u001b[0m\u001b[0mX_scaled\u001b[0m\u001b[0;34m)\u001b[0m\u001b[0;34m\u001b[0m\u001b[0;34m\u001b[0m\u001b[0m\n\u001b[1;32m      3\u001b[0m \u001b[0mclusters\u001b[0m \u001b[0;34m=\u001b[0m \u001b[0mkmeans\u001b[0m\u001b[0;34m.\u001b[0m\u001b[0mlabels_\u001b[0m\u001b[0;34m\u001b[0m\u001b[0;34m\u001b[0m\u001b[0m\n",
            "\u001b[0;31mNameError\u001b[0m: name 'KMeans' is not defined"
          ]
        }
      ],
      "source": [
        "kmeans = KMeans(n_clusters=3, random_state=42)\n",
        "kmeans.fit(X_scaled)\n",
        "clusters = kmeans.labels_\n"
      ]
    },
    {
      "cell_type": "markdown",
      "source": [
        "✅ Descrição: Mapeia os clusters encontrados para os rótulos reais usando a moda dos rótulos em cada cluster.\n",
        "Isso permite comparar diretamente os clusters com as classes verdadeiras."
      ],
      "metadata": {
        "id": "xSKl5mK4ipY0"
      },
      "id": "xSKl5mK4ipY0"
    },
    {
      "cell_type": "code",
      "execution_count": 12,
      "id": "989a4475",
      "metadata": {
        "id": "989a4475",
        "colab": {
          "base_uri": "https://localhost:8080/",
          "height": 211
        },
        "outputId": "d79d88cc-ff06-40bb-b5ce-37a90b38f523"
      },
      "outputs": [
        {
          "output_type": "error",
          "ename": "NameError",
          "evalue": "name 'np' is not defined",
          "traceback": [
            "\u001b[0;31m---------------------------------------------------------------------------\u001b[0m",
            "\u001b[0;31mNameError\u001b[0m                                 Traceback (most recent call last)",
            "\u001b[0;32m<ipython-input-12-1f125974e69d>\u001b[0m in \u001b[0;36m<cell line: 0>\u001b[0;34m()\u001b[0m\n\u001b[1;32m      1\u001b[0m \u001b[0;32mfrom\u001b[0m \u001b[0mscipy\u001b[0m\u001b[0;34m.\u001b[0m\u001b[0mstats\u001b[0m \u001b[0;32mimport\u001b[0m \u001b[0mmode\u001b[0m\u001b[0;34m\u001b[0m\u001b[0;34m\u001b[0m\u001b[0m\n\u001b[1;32m      2\u001b[0m \u001b[0;34m\u001b[0m\u001b[0m\n\u001b[0;32m----> 3\u001b[0;31m \u001b[0mmapped_clusters\u001b[0m \u001b[0;34m=\u001b[0m \u001b[0mnp\u001b[0m\u001b[0;34m.\u001b[0m\u001b[0mzeros_like\u001b[0m\u001b[0;34m(\u001b[0m\u001b[0mclusters\u001b[0m\u001b[0;34m)\u001b[0m\u001b[0;34m\u001b[0m\u001b[0;34m\u001b[0m\u001b[0m\n\u001b[0m\u001b[1;32m      4\u001b[0m \u001b[0;32mfor\u001b[0m \u001b[0mi\u001b[0m \u001b[0;32min\u001b[0m \u001b[0mrange\u001b[0m\u001b[0;34m(\u001b[0m\u001b[0;36m3\u001b[0m\u001b[0;34m)\u001b[0m\u001b[0;34m:\u001b[0m\u001b[0;34m\u001b[0m\u001b[0;34m\u001b[0m\u001b[0m\n\u001b[1;32m      5\u001b[0m     \u001b[0mmask\u001b[0m \u001b[0;34m=\u001b[0m \u001b[0;34m(\u001b[0m\u001b[0mclusters\u001b[0m \u001b[0;34m==\u001b[0m \u001b[0mi\u001b[0m\u001b[0;34m)\u001b[0m\u001b[0;34m\u001b[0m\u001b[0;34m\u001b[0m\u001b[0m\n",
            "\u001b[0;31mNameError\u001b[0m: name 'np' is not defined"
          ]
        }
      ],
      "source": [
        "from scipy.stats import mode\n",
        "\n",
        "mapped_clusters = np.zeros_like(clusters)\n",
        "for i in range(3):\n",
        "    mask = (clusters == i)\n",
        "    mode_result = mode(y[mask], keepdims=True)\n",
        "    mapped_clusters[mask] = mode_result.mode.item()\n"
      ]
    },
    {
      "cell_type": "markdown",
      "source": [
        "✅ Descrição: Cria uma tabela cruzada para comparar os clusters mapeados com os rótulos verdadeiros.\n",
        "\n",
        "Mostra quantos elementos de cada classe foram agrupados em cada cluster."
      ],
      "metadata": {
        "id": "tl2di_LLixSU"
      },
      "id": "tl2di_LLixSU"
    },
    {
      "cell_type": "code",
      "execution_count": 11,
      "id": "9b2e57bb",
      "metadata": {
        "id": "9b2e57bb",
        "outputId": "0c633acd-dbc9-45c5-c0f3-a5f46788559e",
        "colab": {
          "base_uri": "https://localhost:8080/",
          "height": 211
        }
      },
      "outputs": [
        {
          "output_type": "error",
          "ename": "NameError",
          "evalue": "name 'mapped_clusters' is not defined",
          "traceback": [
            "\u001b[0;31m---------------------------------------------------------------------------\u001b[0m",
            "\u001b[0;31mNameError\u001b[0m                                 Traceback (most recent call last)",
            "\u001b[0;32m<ipython-input-11-b9ee793319a7>\u001b[0m in \u001b[0;36m<cell line: 0>\u001b[0;34m()\u001b[0m\n\u001b[1;32m      1\u001b[0m df = pd.DataFrame({\n\u001b[0;32m----> 2\u001b[0;31m     \u001b[0;34m'Cluster Predito'\u001b[0m\u001b[0;34m:\u001b[0m \u001b[0mmapped_clusters\u001b[0m\u001b[0;34m,\u001b[0m\u001b[0;34m\u001b[0m\u001b[0;34m\u001b[0m\u001b[0m\n\u001b[0m\u001b[1;32m      3\u001b[0m     \u001b[0;34m'Rótulo Verdadeiro'\u001b[0m\u001b[0;34m:\u001b[0m \u001b[0my\u001b[0m\u001b[0;34m\u001b[0m\u001b[0;34m\u001b[0m\u001b[0m\n\u001b[1;32m      4\u001b[0m })\n\u001b[1;32m      5\u001b[0m \u001b[0;34m\u001b[0m\u001b[0m\n",
            "\u001b[0;31mNameError\u001b[0m: name 'mapped_clusters' is not defined"
          ]
        }
      ],
      "source": [
        "df = pd.DataFrame({\n",
        "    'Cluster Predito': mapped_clusters,\n",
        "    'Rótulo Verdadeiro': y\n",
        "})\n",
        "\n",
        "crosstab = pd.crosstab(df['Cluster Predito'], df['Rótulo Verdadeiro'])\n",
        "print(crosstab)\n"
      ]
    },
    {
      "cell_type": "markdown",
      "source": [
        "## 📈 Avaliação do Modelo com Métricas\n",
        "\n",
        "✅ Descrição: accuracy_score: Mostra a porcentagem de acertos entre os clusters mapeados e os rótulos verdadeiros.\n",
        "\n",
        "confusion_matrix: Exibe uma matriz que mostra como os clusters se relacionam com as classes reais (quantos acertos/erros por classe).\n",
        "classification_report: Relatório detalhado com métricas como precisão , recall e F1-score por classe."
      ],
      "metadata": {
        "id": "OGJxtlv7jTUy"
      },
      "id": "OGJxtlv7jTUy"
    },
    {
      "cell_type": "code",
      "execution_count": null,
      "id": "4a406523",
      "metadata": {
        "id": "4a406523",
        "outputId": "18da9bf2-acff-4963-d2a9-9a477aa54811"
      },
      "outputs": [
        {
          "name": "stdout",
          "output_type": "stream",
          "text": [
            "Accuracy: 0.9662921348314607\n",
            "\n",
            "Matriz de Confusão:\n",
            "[[59  0  0]\n",
            " [ 3 65  3]\n",
            " [ 0  0 48]]\n",
            "\n",
            "Relatório de Classificação:\n",
            "              precision    recall  f1-score   support\n",
            "\n",
            "           0       0.95      1.00      0.98        59\n",
            "           1       1.00      0.92      0.96        71\n",
            "           2       0.94      1.00      0.97        48\n",
            "\n",
            "    accuracy                           0.97       178\n",
            "   macro avg       0.96      0.97      0.97       178\n",
            "weighted avg       0.97      0.97      0.97       178\n",
            "\n"
          ]
        }
      ],
      "source": [
        "\n",
        "# Métricas\n",
        "print(\"Accuracy:\", accuracy_score(y, mapped_clusters))\n",
        "print(\"\\nMatriz de Confusão:\")\n",
        "print(confusion_matrix(y, mapped_clusters))\n",
        "print(\"\\nRelatório de Classificação:\")\n",
        "print(classification_report(y, mapped_clusters))"
      ]
    },
    {
      "cell_type": "markdown",
      "source": [
        "## 📊 Visualização da Matriz de Confusão\n",
        "\n",
        "✅ Descrição: confusion_matrix: Gera a matriz de confusão com base nos rótulos reais (y) e os clusters mapeados (mapped_clusters).\n",
        "\n",
        "sns.heatmap: Plota a matriz como um mapa de calor usando Seaborn.\n",
        "annot=True: Mostra os valores dentro de cada célula.\n",
        "fmt='d': Exibe os valores como inteiros.\n",
        "O gráfico ajuda a visualizar o desempenho do agrupamento de forma clara."
      ],
      "metadata": {
        "id": "alWXi_Vwjtvk"
      },
      "id": "alWXi_Vwjtvk"
    },
    {
      "cell_type": "code",
      "execution_count": null,
      "id": "dd125039",
      "metadata": {
        "id": "dd125039",
        "outputId": "5ba61edd-067d-4b9d-f757-fdcf5b6004e7"
      },
      "outputs": [
        {
          "data": {
            "image/png": "[encoded data removed]",
            "text/plain": [
              "<Figure size 700x500 with 1 Axes>"
            ]
          },
          "metadata": {},
          "output_type": "display_data"
        }
      ],
      "source": [
        "import matplotlib.pyplot as plt\n",
        "import seaborn as sns\n",
        "from sklearn.metrics import confusion_matrix\n",
        "\n",
        "# Gerar matriz de confusão\n",
        "cm = confusion_matrix(y, mapped_clusters)\n",
        "\n",
        "# Plotar matriz de confusão\n",
        "plt.figure(figsize=(7,5))\n",
        "sns.heatmap(cm, annot=True, fmt='d', cmap='Blues', cbar=False)\n",
        "plt.xlabel('Rótulo Predito')\n",
        "plt.ylabel('Rótulo Verdadeiro')\n",
        "plt.title('Matriz de Confusão')\n",
        "plt.show()\n"
      ]
    },
    {
      "cell_type": "code",
      "execution_count": null,
      "id": "0db6f4d5",
      "metadata": {
        "id": "0db6f4d5",
        "outputId": "0e8fa471-2f60-4846-f384-b828d092ed91"
      },
      "outputs": [
        {
          "name": "stdout",
          "output_type": "stream",
          "text": [
            "     class_label    alcohol  malic_acid   ash  alcalinity_of_ash  magnesium  \\\n",
            "0              1  13.740536        1.71  2.43               15.6        127   \n",
            "1              1  13.200000        1.78  2.14               11.2        100   \n",
            "2              1  13.160000        2.36  2.67               18.6        101   \n",
            "3              1  14.370000        1.95  2.50               16.8        113   \n",
            "4              1  13.240000        2.59  2.87               21.0        118   \n",
            "..           ...        ...         ...   ...                ...        ...   \n",
            "173            3  13.710000        5.65  2.45               20.5         95   \n",
            "174            3  13.400000        3.91  2.48               23.0        102   \n",
            "175            3  13.151277        4.28  2.26               20.0        120   \n",
            "176            3  13.170000        2.59  2.37               20.0        120   \n",
            "177            3  14.130000        4.10  2.74               24.5         96   \n",
            "\n",
            "     total_phenols  flavanoids  nonflavanoid_phenols  proanthocyanins  \\\n",
            "0             2.80        3.06                  0.28             2.29   \n",
            "1             2.65        2.76                  0.26             1.28   \n",
            "2             2.80        3.24                  0.30             2.81   \n",
            "3             3.85        3.49                  0.24             2.18   \n",
            "4             2.80        2.69                  0.39             1.82   \n",
            "..             ...         ...                   ...              ...   \n",
            "173           1.68        0.61                  0.52             1.06   \n",
            "174           1.80        0.75                  0.43             1.41   \n",
            "175           1.59        0.69                  0.43             1.35   \n",
            "176           1.65        0.68                  0.53             1.46   \n",
            "177           2.05        0.76                  0.56             1.35   \n",
            "\n",
            "     color_intensity   hue  od280  proline  \n",
            "0               5.64  1.04   3.92     1065  \n",
            "1               4.38  1.05   3.40     1050  \n",
            "2               5.68  1.03   3.17     1185  \n",
            "3               7.80  0.86   3.45     1480  \n",
            "4               4.32  1.04   2.93      735  \n",
            "..               ...   ...    ...      ...  \n",
            "173             7.70  0.64   1.74      740  \n",
            "174             7.30  0.70   1.56      750  \n",
            "175            10.20  0.59   1.56      835  \n",
            "176             9.30  0.60   1.62      840  \n",
            "177             9.20  0.61   1.60      560  \n",
            "\n",
            "[178 rows x 14 columns]\n"
          ]
        }
      ],
      "source": [
        "print(wine_df)"
      ]
    }
  ],
  "metadata": {
    "kernelspec": {
      "display_name": "Python 3",
      "language": "python",
      "name": "python3"
    },
    "language_info": {
      "codemirror_mode": {
        "name": "ipython",
        "version": 3
      },
      "file_extension": ".py",
      "mimetype": "text/x-python",
      "name": "python",
      "nbconvert_exporter": "python",
      "pygments_lexer": "ipython3",
      "version": "3.12.2"
    },
    "colab": {
      "provenance": [],
      "toc_visible": true
    }
  },
  "nbformat": 4,
  "nbformat_minor": 5
}